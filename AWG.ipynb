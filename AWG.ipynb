{
 "cells": [
  {
   "cell_type": "markdown",
   "id": "8060edc2-5943-44ad-8d3e-920032d294d4",
   "metadata": {},
   "source": [
    "selecionar o clock para externo e configurar o awg para 10 MHz\n",
    "\n",
    "selecionar dual channel with markers\n",
    "\n",
    "selecionar sampling rate -> 64 GSamples/s\n",
    "\n",
    "colocar o canal 2 para usar o memória externa -> dividir a memória para dois canais (isso divide o sampling rate)\n",
    "\n",
    "habilitar todos os canais\n"
   ]
  },
  {
   "cell_type": "markdown",
   "id": "95e8e0b7-7e9e-44f7-81b6-8ed17e19c52a",
   "metadata": {},
   "source": [
    "# Setting TCP/IP Connection with Sockets"
   ]
  },
  {
   "cell_type": "code",
   "execution_count": 55,
   "id": "ffcd58c0-c7ec-41c6-9e1e-4914302131cc",
   "metadata": {},
   "outputs": [],
   "source": [
    "from socket import socket, AF_INET, SOCK_STREAM\n",
    "from time import sleep\n",
    "import numpy as np\n",
    "import matplotlib.pyplot as plt"
   ]
  },
  {
   "cell_type": "code",
   "execution_count": 6,
   "id": "e476d232-9500-44a0-ae37-0132568da3c8",
   "metadata": {},
   "outputs": [],
   "source": [
    "session = socket(AF_INET, SOCK_STREAM)"
   ]
  },
  {
   "cell_type": "code",
   "execution_count": 9,
   "id": "9bcfee91-afaf-4fc9-8eda-6282288ed594",
   "metadata": {},
   "outputs": [],
   "source": [
    "session.connect(('169.254.101.100',5025))"
   ]
  },
  {
   "cell_type": "code",
   "execution_count": 45,
   "id": "3abfd49c-ca23-4833-88b5-de7943484f0c",
   "metadata": {},
   "outputs": [],
   "source": [
    "session.settimeout(4)"
   ]
  },
  {
   "cell_type": "code",
   "execution_count": 58,
   "id": "6effd3b1-05f3-4a02-b514-499908b21fde",
   "metadata": {},
   "outputs": [],
   "source": [
    "\n",
    "def write(cmd):\n",
    "    session.sendall(str.encode(cmd+'\\n'))\n",
    "\n",
    "def query(cmd):\n",
    "    write(cmd)\n",
    "    sleep(0.1)\n",
    "    return session.recv(4096).decode()\n",
    "\n",
    "def getError():\n",
    "    return query('SYSTEM:ERR?')\n"
   ]
  },
  {
   "cell_type": "code",
   "execution_count": 59,
   "id": "dc9501a5-389a-4d70-83c5-885a8d4f0b6b",
   "metadata": {},
   "outputs": [
    {
     "data": {
      "text/plain": [
       "'Keysight Technologies,M8195A,MY55A00568,4.1.0.0-2\\n'"
      ]
     },
     "execution_count": 59,
     "metadata": {},
     "output_type": "execute_result"
    }
   ],
   "source": [
    "query('*IDN?')"
   ]
  },
  {
   "cell_type": "code",
   "execution_count": 60,
   "id": "56e67389-5260-487c-bad7-f6515d9066bb",
   "metadata": {},
   "outputs": [
    {
     "data": {
      "text/plain": [
       "'0,\"No error\"\\n'"
      ]
     },
     "execution_count": 60,
     "metadata": {},
     "output_type": "execute_result"
    }
   ],
   "source": [
    "getError()"
   ]
  },
  {
   "cell_type": "markdown",
   "id": "c1594ad2-2d7b-4d58-b869-165c315c7489",
   "metadata": {},
   "source": [
    "# Setting AWG"
   ]
  },
  {
   "cell_type": "markdown",
   "id": "b2526268-c543-44e6-8031-fc04dcee8b02",
   "metadata": {},
   "source": [
    "### Clock"
   ]
  },
  {
   "cell_type": "code",
   "execution_count": 65,
   "id": "e8816f4a-2c16-4a23-bb22-9e71b753e0f1",
   "metadata": {},
   "outputs": [],
   "source": [
    "write(':rosc:sour ext')"
   ]
  },
  {
   "cell_type": "code",
   "execution_count": 66,
   "id": "f06a504a-5a92-44ba-beae-67be7bc305d5",
   "metadata": {},
   "outputs": [],
   "source": [
    "write(':rosc:freq 10e6')"
   ]
  },
  {
   "cell_type": "markdown",
   "id": "055a966c-0337-4265-bdc5-fb312c8da7a4",
   "metadata": {},
   "source": [
    "### Sampling Rate"
   ]
  },
  {
   "cell_type": "code",
   "execution_count": 68,
   "id": "b2b181fe-b7b2-4e25-a266-d749a6303eb3",
   "metadata": {},
   "outputs": [],
   "source": [
    "write(':FREQ:RAST 64e9')"
   ]
  },
  {
   "cell_type": "markdown",
   "id": "fe336ecb-4255-4d0b-817a-76e388c67665",
   "metadata": {},
   "source": [
    "### Dual Channel With Marker"
   ]
  },
  {
   "cell_type": "code",
   "execution_count": 69,
   "id": "6f1671ea-c8b4-4bed-add5-b7c031aff947",
   "metadata": {},
   "outputs": [],
   "source": [
    "write(':inst:dacm dcm')"
   ]
  },
  {
   "cell_type": "markdown",
   "id": "7ba5eb3a-aaef-459b-956d-3bd3192c9f0b",
   "metadata": {},
   "source": [
    "### Divide Memory (Sampling Rate also)"
   ]
  },
  {
   "cell_type": "code",
   "execution_count": 70,
   "id": "b0bbfaa8-5971-470b-98af-9520148cb950",
   "metadata": {},
   "outputs": [],
   "source": [
    "write(':INST:MEM:EXT:RDIV DIV2')"
   ]
  },
  {
   "cell_type": "markdown",
   "id": "4371b744-9d9a-4ceb-8897-c212f2a248a4",
   "metadata": {},
   "source": [
    "### Set Channel 2 to External Memory"
   ]
  },
  {
   "cell_type": "code",
   "execution_count": 71,
   "id": "921658d9-74ce-4e6b-ae6c-17a4c864d885",
   "metadata": {},
   "outputs": [],
   "source": [
    "write(':TRAC2:MMOD EXT')"
   ]
  },
  {
   "cell_type": "markdown",
   "id": "c61fec01-dc20-434e-8a60-e8bfcc594014",
   "metadata": {},
   "source": [
    "### Enable all Channels"
   ]
  },
  {
   "cell_type": "code",
   "execution_count": 74,
   "id": "a0a554db-99f2-4ef2-8b36-408ae81f049f",
   "metadata": {},
   "outputs": [],
   "source": [
    "write(':outp1 on')\n",
    "write(':outp2 on')\n",
    "write(':outp3 on')\n",
    "write(':outp4 on')"
   ]
  },
  {
   "cell_type": "markdown",
   "id": "f2a0de0c-0366-4790-b189-f3ea21153914",
   "metadata": {},
   "source": [
    "### Set offset Voltage and Amplitude Voltage"
   ]
  },
  {
   "cell_type": "code",
   "execution_count": 80,
   "id": "bb9573fb-f219-437c-916f-801106080c2e",
   "metadata": {},
   "outputs": [],
   "source": [
    "write(':volt1 1')\n",
    "write(':volt2 1')\n",
    "write(':volt3 1')\n",
    "write(':volt4 1')\n",
    "\n",
    "write(':volt3:offs 0.5')\n",
    "write(':volt4:offs 0.5')"
   ]
  },
  {
   "cell_type": "markdown",
   "id": "bb6a348a-5459-416f-9627-3318ff7a3f9a",
   "metadata": {},
   "source": [
    "# Loading data to AWG"
   ]
  },
  {
   "cell_type": "code",
   "execution_count": 218,
   "id": "ab5f4cfc-62ed-403a-bf8c-c487b92fb570",
   "metadata": {},
   "outputs": [],
   "source": [
    "def start():\n",
    "    write(':INIT:IMM')\n",
    "\n",
    "def stop():\n",
    "    write(':abor')\n",
    "\n",
    "def load(channel,data, offset = 0 ):\n",
    "    tamanho = len(data)\n",
    "    n = int(np.log10(tamanho)+1)\n",
    "    tag = '#'+str(n) + str(tamanho)\n",
    "    \n",
    "    cmd = ':trac{}:data 1, {}, '.format(channel,offset)+tag\n",
    "    \n",
    "    payload = cmd.encode() + bytes(data) + '\\n'.encode()\n",
    "    \n",
    "    session.sendall(payload)\n"
   ]
  },
  {
   "cell_type": "markdown",
   "id": "9d144b6a-8acc-4648-a750-58ae854c0fcd",
   "metadata": {},
   "source": [
    "### para baixar os dados"
   ]
  },
  {
   "cell_type": "code",
   "execution_count": null,
   "id": "a46d0296-4641-4a25-b380-851403b00c26",
   "metadata": {},
   "outputs": [],
   "source": [
    "write(':trac2:block? 1,0, 4096')"
   ]
  },
  {
   "cell_type": "code",
   "execution_count": null,
   "id": "a569178c-bbce-4bfa-ac48-5c5ddb38ec56",
   "metadata": {},
   "outputs": [],
   "source": [
    "session.recv(4096)"
   ]
  },
  {
   "cell_type": "markdown",
   "id": "2b4559c8-4582-42ff-9b17-86b9b3854a8d",
   "metadata": {},
   "source": [
    "### Gerar os dados para canal 2"
   ]
  },
  {
   "cell_type": "code",
   "execution_count": 50,
   "id": "3eee5cd4-72df-44ee-b37b-c47c10b67659",
   "metadata": {},
   "outputs": [],
   "source": [
    "length = 10e-9\n",
    "x = np.arange(0,length,1/32e9)\n",
    "\n",
    "sigma = 0.2 * length\n",
    "y = 127*np.exp(-(x-length/2)**2/sigma**2)\n",
    "\n",
    "padding = np.zeros(192)\n",
    "y = np.append(y,padding)\n",
    "\n",
    "data2 = np.array(yWMarkers,dtype=np.int8)"
   ]
  },
  {
   "cell_type": "markdown",
   "id": "2f1128e1-1cb8-4381-b17c-dab00416e9c3",
   "metadata": {},
   "source": [
    "### Gerar os dados para canal 1 com markers"
   ]
  },
  {
   "cell_type": "code",
   "execution_count": 51,
   "id": "3dbe2514-a4af-4fc7-8346-95cf22fe28d5",
   "metadata": {},
   "outputs": [],
   "source": [
    "length = 10e-9\n",
    "x = np.arange(0,length,1/32e9)\n",
    "\n",
    "sigma = 0.2 * length\n",
    "y = 127*np.exp(-(x-length/2)**2/sigma**2)\n",
    "\n",
    "padding = np.zeros(192)\n",
    "y = np.append(y,padding)\n",
    "\n",
    "markers = 2*np.ones(len(y))\n",
    "\n",
    "yWMarkers =  np.array(list(zip(y,markers))).flatten()\n",
    "\n",
    "data1 = np.array(yWMarkers,dtype=np.int8)"
   ]
  },
  {
   "cell_type": "markdown",
   "id": "d2ac82b3-57c4-4907-af56-c4ef057a0071",
   "metadata": {},
   "source": [
    "### carregar os dados no AWG"
   ]
  },
  {
   "cell_type": "code",
   "execution_count": 328,
   "id": "20bd0c06-e351-4157-9a69-aac243c138a1",
   "metadata": {},
   "outputs": [],
   "source": [
    "load(2,data2,0) # colocar o dado no canal 1 no offset 0"
   ]
  },
  {
   "cell_type": "code",
   "execution_count": null,
   "id": "c844aa36-f46e-4e2c-a9b8-5645493c511a",
   "metadata": {},
   "outputs": [],
   "source": [
    "load(2,data1,512) # colocar o dado no canal 1 no offset 512"
   ]
  },
  {
   "cell_type": "code",
   "execution_count": 320,
   "id": "c0f8805b-2efe-4a36-bc39-fdeb9852c2eb",
   "metadata": {},
   "outputs": [
    {
     "data": {
      "text/plain": [
       "'-300,\"Device-specific error;CH1: Segment id 1: Downloaded data length of 320 samples is not a multiple of 128.\"\\n'"
      ]
     },
     "execution_count": 320,
     "metadata": {},
     "output_type": "execute_result"
    }
   ],
   "source": [
    "getError()"
   ]
  },
  {
   "cell_type": "markdown",
   "id": "2016f6e3-8487-4550-9b4a-f93d9595d8b2",
   "metadata": {},
   "source": [
    "### free memory"
   ]
  },
  {
   "cell_type": "code",
   "execution_count": 194,
   "id": "c49b24c5-708b-4a8e-beb6-b175f2f3fe8c",
   "metadata": {},
   "outputs": [],
   "source": [
    "write('trac1:del:all')"
   ]
  },
  {
   "cell_type": "markdown",
   "id": "8a4a04fe-2aeb-4dd2-8999-2ee4ac7835e0",
   "metadata": {},
   "source": [
    "### alocar memória"
   ]
  },
  {
   "cell_type": "code",
   "execution_count": 178,
   "id": "bdc173a2-af0f-4ad8-a940-fa8fd17ca12f",
   "metadata": {},
   "outputs": [],
   "source": [
    "write('trac1:def 1,4096,0')"
   ]
  }
 ],
 "metadata": {
  "kernelspec": {
   "display_name": "Python 3 (ipykernel)",
   "language": "python",
   "name": "python3"
  },
  "language_info": {
   "codemirror_mode": {
    "name": "ipython",
    "version": 3
   },
   "file_extension": ".py",
   "mimetype": "text/x-python",
   "name": "python",
   "nbconvert_exporter": "python",
   "pygments_lexer": "ipython3",
   "version": "3.11.9"
  }
 },
 "nbformat": 4,
 "nbformat_minor": 5
}
