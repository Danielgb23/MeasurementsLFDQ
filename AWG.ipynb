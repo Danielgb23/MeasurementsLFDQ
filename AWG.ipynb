{
 "cells": [
  {
   "cell_type": "markdown",
   "id": "8060edc2-5943-44ad-8d3e-920032d294d4",
   "metadata": {},
   "source": [
    "selecionar o clock para externo e configurar o awg para 10 MHz\n",
    "\n",
    "selecionar dual channel with markers\n",
    "\n",
    "selecionar sampling rate -> 64 GSamples/s\n",
    "\n",
    "colocar o canal 2 para usar o memória externa -> dividir a memória para dois canais (isso divide o sampling rate)\n",
    "\n",
    "habilitar todos os canais\n"
   ]
  },
  {
   "cell_type": "markdown",
   "id": "95e8e0b7-7e9e-44f7-81b6-8ed17e19c52a",
   "metadata": {},
   "source": [
    "# Setting TCP/IP Connection with Sockets"
   ]
  },
  {
   "cell_type": "code",
   "execution_count": 1,
   "id": "ffcd58c0-c7ec-41c6-9e1e-4914302131cc",
   "metadata": {},
   "outputs": [],
   "source": [
    "from socket import socket, AF_INET, SOCK_STREAM\n",
    "from time import sleep\n",
    "import numpy as np\n",
    "import matplotlib.pyplot as plt"
   ]
  },
  {
   "cell_type": "code",
   "execution_count": 2,
   "id": "e476d232-9500-44a0-ae37-0132568da3c8",
   "metadata": {},
   "outputs": [],
   "source": [
    "session = socket(AF_INET, SOCK_STREAM)"
   ]
  },
  {
   "cell_type": "code",
   "execution_count": 3,
   "id": "9bcfee91-afaf-4fc9-8eda-6282288ed594",
   "metadata": {},
   "outputs": [],
   "source": [
    "session.connect(('169.254.101.100',5025))"
   ]
  },
  {
   "cell_type": "code",
   "execution_count": 4,
   "id": "3abfd49c-ca23-4833-88b5-de7943484f0c",
   "metadata": {},
   "outputs": [],
   "source": [
    "session.settimeout(4)"
   ]
  },
  {
   "cell_type": "code",
   "execution_count": 5,
   "id": "6effd3b1-05f3-4a02-b514-499908b21fde",
   "metadata": {},
   "outputs": [],
   "source": [
    "\n",
    "def write(cmd):\n",
    "    session.sendall(str.encode(cmd+'\\n'))\n",
    "\n",
    "def query(cmd):\n",
    "    write(cmd)\n",
    "    sleep(0.1)\n",
    "    return session.recv(4096).decode()\n",
    "\n",
    "def getError():\n",
    "    return query('SYSTEM:ERR?')\n"
   ]
  },
  {
   "cell_type": "code",
   "execution_count": 8,
   "id": "dc9501a5-389a-4d70-83c5-885a8d4f0b6b",
   "metadata": {},
   "outputs": [
    {
     "data": {
      "text/plain": [
       "'Keysight Technologies,M8195A,MY55A00568,4.1.0.0-2\\n'"
      ]
     },
     "execution_count": 8,
     "metadata": {},
     "output_type": "execute_result"
    }
   ],
   "source": [
    "query('*IDN?')"
   ]
  },
  {
   "cell_type": "code",
   "execution_count": 12,
   "id": "56e67389-5260-487c-bad7-f6515d9066bb",
   "metadata": {},
   "outputs": [
    {
     "data": {
      "text/plain": [
       "'0,\"No error\"\\n'"
      ]
     },
     "execution_count": 12,
     "metadata": {},
     "output_type": "execute_result"
    }
   ],
   "source": [
    "getError()"
   ]
  },
  {
   "cell_type": "markdown",
   "id": "c1594ad2-2d7b-4d58-b869-165c315c7489",
   "metadata": {},
   "source": [
    "# Setting AWG"
   ]
  },
  {
   "cell_type": "markdown",
   "id": "b2526268-c543-44e6-8031-fc04dcee8b02",
   "metadata": {},
   "source": [
    "### Clock"
   ]
  },
  {
   "cell_type": "code",
   "execution_count": 10,
   "id": "e8816f4a-2c16-4a23-bb22-9e71b753e0f1",
   "metadata": {},
   "outputs": [],
   "source": [
    "write(':rosc:sour ext')"
   ]
  },
  {
   "cell_type": "code",
   "execution_count": 11,
   "id": "f06a504a-5a92-44ba-beae-67be7bc305d5",
   "metadata": {},
   "outputs": [],
   "source": [
    "write(':rosc:freq 10e6')"
   ]
  },
  {
   "cell_type": "markdown",
   "id": "055a966c-0337-4265-bdc5-fb312c8da7a4",
   "metadata": {},
   "source": [
    "### Sampling Rate"
   ]
  },
  {
   "cell_type": "code",
   "execution_count": 13,
   "id": "b2b181fe-b7b2-4e25-a266-d749a6303eb3",
   "metadata": {},
   "outputs": [],
   "source": [
    "write(':FREQ:RAST 64e9')"
   ]
  },
  {
   "cell_type": "markdown",
   "id": "fe336ecb-4255-4d0b-817a-76e388c67665",
   "metadata": {},
   "source": [
    "### Dual Channel With Marker"
   ]
  },
  {
   "cell_type": "code",
   "execution_count": 14,
   "id": "6f1671ea-c8b4-4bed-add5-b7c031aff947",
   "metadata": {},
   "outputs": [],
   "source": [
    "write(':inst:dacm dcm')"
   ]
  },
  {
   "cell_type": "markdown",
   "id": "7ba5eb3a-aaef-459b-956d-3bd3192c9f0b",
   "metadata": {},
   "source": [
    "### Divide Memory (Sampling Rate also)"
   ]
  },
  {
   "cell_type": "code",
   "execution_count": 15,
   "id": "b0bbfaa8-5971-470b-98af-9520148cb950",
   "metadata": {},
   "outputs": [],
   "source": [
    "write(':INST:MEM:EXT:RDIV DIV2')"
   ]
  },
  {
   "cell_type": "markdown",
   "id": "4371b744-9d9a-4ceb-8897-c212f2a248a4",
   "metadata": {},
   "source": [
    "### Set Channel 2 to External Memory"
   ]
  },
  {
   "cell_type": "code",
   "execution_count": 16,
   "id": "921658d9-74ce-4e6b-ae6c-17a4c864d885",
   "metadata": {},
   "outputs": [],
   "source": [
    "write(':TRAC2:MMOD EXT')"
   ]
  },
  {
   "cell_type": "markdown",
   "id": "c61fec01-dc20-434e-8a60-e8bfcc594014",
   "metadata": {},
   "source": [
    "### Enable all Channels"
   ]
  },
  {
   "cell_type": "code",
   "execution_count": 17,
   "id": "a0a554db-99f2-4ef2-8b36-408ae81f049f",
   "metadata": {},
   "outputs": [],
   "source": [
    "write(':outp1 on')\n",
    "write(':outp2 on')\n",
    "write(':outp3 on')\n",
    "write(':outp4 on')"
   ]
  },
  {
   "cell_type": "markdown",
   "id": "f2a0de0c-0366-4790-b189-f3ea21153914",
   "metadata": {},
   "source": [
    "### Set offset Voltage and Amplitude Voltage"
   ]
  },
  {
   "cell_type": "code",
   "execution_count": 18,
   "id": "bb9573fb-f219-437c-916f-801106080c2e",
   "metadata": {},
   "outputs": [],
   "source": [
    "write(':volt1 1')\n",
    "write(':volt2 1')\n",
    "write(':volt3 1')\n",
    "write(':volt4 1')\n",
    "\n",
    "write(':volt3:offs 0.5')\n",
    "write(':volt4:offs 0.5')"
   ]
  },
  {
   "cell_type": "markdown",
   "id": "bb6a348a-5459-416f-9627-3318ff7a3f9a",
   "metadata": {},
   "source": [
    "# Loading data to AWG"
   ]
  },
  {
   "cell_type": "code",
   "execution_count": 19,
   "id": "ab5f4cfc-62ed-403a-bf8c-c487b92fb570",
   "metadata": {},
   "outputs": [],
   "source": [
    "def start():\n",
    "    write(':INIT:IMM')\n",
    "\n",
    "def stop():\n",
    "    write(':abor')\n",
    "\n",
    "def load(channel,data, offset = 0 ):\n",
    "    tamanho = len(data)\n",
    "    n = int(np.log10(tamanho)+1)\n",
    "    tag = '#'+str(n) + str(tamanho)\n",
    "    \n",
    "    cmd = ':trac{}:data 1, {}, '.format(channel,offset)+tag\n",
    "    \n",
    "    payload = cmd.encode() + bytes(data) + '\\n'.encode()\n",
    "    \n",
    "    session.sendall(payload)\n"
   ]
  },
  {
   "cell_type": "markdown",
   "id": "9d144b6a-8acc-4648-a750-58ae854c0fcd",
   "metadata": {},
   "source": [
    "### para baixar os dados"
   ]
  },
  {
   "cell_type": "code",
   "execution_count": 20,
   "id": "a46d0296-4641-4a25-b380-851403b00c26",
   "metadata": {},
   "outputs": [],
   "source": [
    "write(':trac2:block? 1,0, 4096')"
   ]
  },
  {
   "cell_type": "code",
   "execution_count": 21,
   "id": "a569178c-bbce-4bfa-ac48-5c5ddb38ec56",
   "metadata": {},
   "outputs": [
    {
     "data": {
      "text/plain": [
       "b'#10\\n'"
      ]
     },
     "execution_count": 21,
     "metadata": {},
     "output_type": "execute_result"
    }
   ],
   "source": [
    "session.recv(4096)"
   ]
  },
  {
   "cell_type": "markdown",
   "id": "2b4559c8-4582-42ff-9b17-86b9b3854a8d",
   "metadata": {},
   "source": [
    "### Gerar os dados para canal 2"
   ]
  },
  {
   "cell_type": "code",
   "execution_count": 33,
   "id": "3eee5cd4-72df-44ee-b37b-c47c10b67659",
   "metadata": {},
   "outputs": [],
   "source": [
    "length = 10e-9\n",
    "x = np.arange(0,length,1/32e9)\n",
    "\n",
    "sigma = 0.2 * length\n",
    "y = 127*np.exp(-(x-length/2)**2/sigma**2)\n",
    "\n",
    "padding = np.zeros(192)\n",
    "y = np.append(y,padding)\n",
    "\n",
    "data2 = np.array(y,dtype=np.int8)"
   ]
  },
  {
   "cell_type": "markdown",
   "id": "2f1128e1-1cb8-4381-b17c-dab00416e9c3",
   "metadata": {},
   "source": [
    "### Gerar os dados para canal 1 com markers"
   ]
  },
  {
   "cell_type": "code",
   "execution_count": 51,
   "id": "3dbe2514-a4af-4fc7-8346-95cf22fe28d5",
   "metadata": {},
   "outputs": [],
   "source": [
    "length = 10e-9\n",
    "x = np.arange(0,length,1/32e9)\n",
    "\n",
    "sigma = 0.2 * length\n",
    "y = 127*np.exp(-(x-length/2)**2/sigma**2)\n",
    "\n",
    "padding = np.zeros(192)\n",
    "y = np.append(y,padding)\n",
    "\n",
    "markers = 2*np.ones(len(y))\n",
    "\n",
    "yWMarkers =  np.array(list(zip(y,markers))).flatten()\n",
    "\n",
    "data1 = np.array(yWMarkers,dtype=np.int8)"
   ]
  },
  {
   "cell_type": "markdown",
   "id": "d2ac82b3-57c4-4907-af56-c4ef057a0071",
   "metadata": {},
   "source": [
    "### carregar os dados no AWG"
   ]
  },
  {
   "cell_type": "code",
   "execution_count": 34,
   "id": "20bd0c06-e351-4157-9a69-aac243c138a1",
   "metadata": {},
   "outputs": [],
   "source": [
    "load(2,data2,0) # colocar o dado no canal 1 no offset 0"
   ]
  },
  {
   "cell_type": "code",
   "execution_count": null,
   "id": "c844aa36-f46e-4e2c-a9b8-5645493c511a",
   "metadata": {},
   "outputs": [],
   "source": [
    "load(1,data2,512) # colocar o dado no canal 1 no offset 512"
   ]
  },
  {
   "cell_type": "code",
   "execution_count": 35,
   "id": "c0f8805b-2efe-4a36-bc39-fdeb9852c2eb",
   "metadata": {},
   "outputs": [
    {
     "data": {
      "text/plain": [
       "'0,\"No error\"\\n'"
      ]
     },
     "execution_count": 35,
     "metadata": {},
     "output_type": "execute_result"
    }
   ],
   "source": [
    "getError()"
   ]
  },
  {
   "cell_type": "markdown",
   "id": "2016f6e3-8487-4550-9b4a-f93d9595d8b2",
   "metadata": {},
   "source": [
    "### free memory"
   ]
  },
  {
   "cell_type": "code",
   "execution_count": 29,
   "id": "c49b24c5-708b-4a8e-beb6-b175f2f3fe8c",
   "metadata": {},
   "outputs": [],
   "source": [
    "write('trac1:del:all')"
   ]
  },
  {
   "cell_type": "markdown",
   "id": "8a4a04fe-2aeb-4dd2-8999-2ee4ac7835e0",
   "metadata": {},
   "source": [
    "### alocar memória"
   ]
  },
  {
   "cell_type": "code",
   "execution_count": 31,
   "id": "bdc173a2-af0f-4ad8-a940-fa8fd17ca12f",
   "metadata": {},
   "outputs": [],
   "source": [
    "write('trac1:def 1,4096,0')"
   ]
  },
  {
   "cell_type": "markdown",
   "id": "b02eb770-3384-45a2-ae68-43e3183792ca",
   "metadata": {},
   "source": [
    "# Para fazer o mesmo mas utilizando os drivers e funções de ajuda que eu criei"
   ]
  },
  {
   "cell_type": "code",
   "execution_count": 42,
   "id": "17c86bd9-ea1e-486d-893a-3a9227080f33",
   "metadata": {},
   "outputs": [],
   "source": [
    "from instruments.M8195A_driver import * # awg"
   ]
  },
  {
   "cell_type": "code",
   "execution_count": 44,
   "id": "ae314ad5-fa65-42c3-a73e-757b344332df",
   "metadata": {},
   "outputs": [],
   "source": [
    "awg = M8195A_driver('169.254.101.100') # internamente vai criar a session de socket na porta 5025"
   ]
  },
  {
   "cell_type": "code",
   "execution_count": null,
   "id": "b9debd10-634a-4f13-a88b-66cba9bb59fa",
   "metadata": {},
   "outputs": [],
   "source": [
    "awg.enableChanneloutput(1) # write(':outp1 on')"
   ]
  },
  {
   "cell_type": "code",
   "execution_count": null,
   "id": "f6f166dc-3628-4ecc-b71e-d8f152556b78",
   "metadata": {},
   "outputs": [],
   "source": [
    "awg.setRefInClockFrequency(10e6) # write(':rosc:freq 10e6')"
   ]
  },
  {
   "cell_type": "code",
   "execution_count": null,
   "id": "c09aa913-3274-4e65-871d-ac010a1c8c46",
   "metadata": {},
   "outputs": [],
   "source": [
    "awg.setRefInClockExternal() # write(':rosc:sour ext')"
   ]
  },
  {
   "cell_type": "code",
   "execution_count": null,
   "id": "06151ea6-3536-43b5-b330-27ced2f9287c",
   "metadata": {},
   "outputs": [],
   "source": [
    "# write(':trac2:block? 1,0, 4096')\n",
    "# session.recv(4096)\n",
    "# garante que vai baixar todos os dados a partir do offset 0, de tamanho 1024, do channel 1\n",
    "awg.downloadWaveform(1,0,1024) "
   ]
  },
  {
   "cell_type": "code",
   "execution_count": 49,
   "id": "b73be8ec-3c17-4389-9e2a-56d3b3eaffc3",
   "metadata": {},
   "outputs": [],
   "source": [
    "awg.freeMemory() # write('trac1:del:all')"
   ]
  },
  {
   "cell_type": "code",
   "execution_count": null,
   "id": "71c7db22-0096-4102-9617-a098bf1895e3",
   "metadata": {},
   "outputs": [],
   "source": [
    "awg.allocMemory(nbytes) # write('trac1:def 1,{},0'.format(nbytes))"
   ]
  },
  {
   "cell_type": "code",
   "execution_count": null,
   "id": "be0a8b93-434c-4dd8-9b01-4838817b7c99",
   "metadata": {},
   "outputs": [],
   "source": [
    "awg.setChannelMemoryToExtended(channel)  #write(':TRAC{}:MMOD EXT'.format(channel))\n",
    "awg.setChannelMemoryToInternal(channel)  #write(':TRAC{}:MMOD INT'.format(channel))\n",
    "\n",
    "awg.getChannelMemorySetting(channel)  #query(':TRAC{}:MMOD?'.format(channel))\n",
    "\n",
    "awg.setSampleRate(64e9) #write(':FREQ:RAST 64e9')\n",
    "awg.getSampleRate() #query(':FREQ:RAST?')\n",
    "\n",
    "\n",
    "awg.setMemoryDivision(2) #write(':INST:MEM:EXT:RDIV DIV2')\n"
   ]
  },
  {
   "cell_type": "code",
   "execution_count": null,
   "id": "a3b97d39-d21c-40b3-b48c-d9d9f1db6719",
   "metadata": {},
   "outputs": [],
   "source": [
    "awg.setDualWithMarker() # write(':inst:dacm dcm')"
   ]
  },
  {
   "cell_type": "code",
   "execution_count": null,
   "id": "b7e4a819-ed6d-476d-bdfd-6754d055d143",
   "metadata": {},
   "outputs": [],
   "source": [
    "awg.setVoltage(1,0.5) # write(':volt1 0.5')\n",
    "\n",
    "awg.setVoltageOffset(1,0.2) # write(':volt1:offs 0.2')\n"
   ]
  },
  {
   "cell_type": "code",
   "execution_count": null,
   "id": "806954d4-4039-45aa-89ed-4cc493775f33",
   "metadata": {},
   "outputs": [],
   "source": [
    "awg.loadData(data1,0,512) # load(1,data1,512)"
   ]
  }
 ],
 "metadata": {
  "kernelspec": {
   "display_name": "Python 3 (ipykernel)",
   "language": "python",
   "name": "python3"
  },
  "language_info": {
   "codemirror_mode": {
    "name": "ipython",
    "version": 3
   },
   "file_extension": ".py",
   "mimetype": "text/x-python",
   "name": "python",
   "nbconvert_exporter": "python",
   "pygments_lexer": "ipython3",
   "version": "3.11.9"
  }
 },
 "nbformat": 4,
 "nbformat_minor": 5
}
