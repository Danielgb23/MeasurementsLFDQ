{
 "cells": [
  {
   "cell_type": "markdown",
   "id": "e244f3d3-6192-4c1e-b2d7-30bda56f4a34",
   "metadata": {},
   "source": [
    "# Importar drivers"
   ]
  },
  {
   "cell_type": "markdown",
   "id": "813c2067-54fe-4bd9-9a38-2c0ad101b40a",
   "metadata": {},
   "source": [
    "## Os drivers estão todos localizados na pasta Instruments"
   ]
  },
  {
   "cell_type": "code",
   "execution_count": 1,
   "id": "c80b055e-058d-47b9-8663-69ae1509758b",
   "metadata": {},
   "outputs": [],
   "source": [
    "from instruments.M8195A_driver import * # Driver do AWG\n",
    "from instruments.ATS9872_driver import * # Placa Alazar"
   ]
  },
  {
   "cell_type": "markdown",
   "id": "05c9f467-d0b4-4a7c-bd71-9a00cb7563dc",
   "metadata": {},
   "source": [
    "## A biblioteca de medida está localizada na pasta measurements."
   ]
  },
  {
   "cell_type": "code",
   "execution_count": 2,
   "id": "311e0b1f-a7d5-4e82-b22c-530ec0849cfb",
   "metadata": {},
   "outputs": [],
   "source": [
    "from measurements.DataChannelManager import * # Contém classe que gerencia os dados para serem carregados no AWG\n",
    "from measurements.PulseSequence import * # Classe que estratura e sequencia os pulsos\n",
    "\n",
    "# Diferentes tipos de pulsos que podem ser usados\n",
    "\n",
    "from measurements.waveforms.SquarePulse import *\n",
    "from measurements.waveforms.ZeroPulse import *\n",
    "from measurements.waveforms.GaussianPulse import *\n",
    "from measurements.waveforms.DragPulse import *"
   ]
  },
  {
   "cell_type": "markdown",
   "id": "70a293f8-76d5-4bd9-aabb-89b751a094eb",
   "metadata": {},
   "source": [
    "## Outras bibliotecas para ajudar na medida"
   ]
  },
  {
   "cell_type": "code",
   "execution_count": 3,
   "id": "d83bb47f-4641-42e9-9c78-b4a83e69587e",
   "metadata": {},
   "outputs": [],
   "source": [
    "import numpy as np\n",
    "import matplotlib.pyplot as plt\n",
    "from time import sleep\n",
    "import struct\n",
    "from IPython.display import clear_output"
   ]
  },
  {
   "cell_type": "markdown",
   "id": "2d737462-c0c3-4137-a925-1b5403f57bb8",
   "metadata": {},
   "source": [
    "## Configurar AWG"
   ]
  },
  {
   "cell_type": "code",
   "execution_count": 4,
   "id": "696fa0f4-3166-4d49-bdfd-fd43ebb992fa",
   "metadata": {},
   "outputs": [],
   "source": [
    "inst_awg = M8195A_driver('169.254.101.100')\n",
    "\n",
    "inst_awg.setSampleRate(64e9)\n",
    "\n",
    "# tem que conectar também o awg a nossa referência de rubídio 10 MHz\n",
    "inst_awg.setRefInClockExternal()  \n",
    "inst_awg.setRefInClockFrequency(10e6)\n",
    "\n",
    "# configura o awg para usar dois canais (um de excitação, outro de medida) e usar dois markers\n",
    "# o canal 1 gerará o sinal de excitação I e o sinal de medida\n",
    "# o canal 2 gerará o sinal de excitação Q\n",
    "# o canal 3 será o marker 1 - para ligar a fonte 2, fonte de excitação\n",
    "# o canal 4 será o marker 2 - para ligar a fonte 1, de medida, e para trigar a placa de aquisição alazar\n",
    "inst_awg.setDualWithMarker()\n",
    "\n",
    "# dividir a memória em 2\n",
    "inst_awg.setMemoryDivision(2)\n",
    "# usar a memória externa para o canal 2\n",
    "inst_awg.setChannelMemoryToExtended(2)\n",
    "\n",
    "\n",
    "# markers should have 1 V amplitude and offset 0.5\n",
    "inst_awg.setVoltage(3,1) \n",
    "inst_awg.setVoltage(4,1)\n",
    "\n",
    "inst_awg.setVoltageOffset(3,0.5) \n",
    "inst_awg.setVoltageOffset(4,0.5)\n",
    "\n",
    "inst_awg.enableChanneloutput(1)\n",
    "inst_awg.enableChanneloutput(2)\n",
    "inst_awg.enableChanneloutput(3)\n",
    "inst_awg.enableChanneloutput(4)"
   ]
  },
  {
   "cell_type": "code",
   "execution_count": 5,
   "id": "04add838-7a77-4d9f-adab-a152f1f1cef8",
   "metadata": {},
   "outputs": [],
   "source": [
    "inst_awg.getError()"
   ]
  },
  {
   "cell_type": "markdown",
   "id": "1b1e6ad8-c618-485f-beb2-55fcc69ac88c",
   "metadata": {},
   "source": [
    "## Configurar Alazar"
   ]
  },
  {
   "cell_type": "code",
   "execution_count": 6,
   "id": "492918e9-1fc3-4975-9a2b-1d9878ad8397",
   "metadata": {},
   "outputs": [],
   "source": [
    "inst_alazar = ATS9872_driver()\n",
    "\n",
    "alazar_params = {}\n",
    "\n",
    "RFMeasurementLength = 5e-6 # Escolher a duração do pulso de medida\n",
    "\n",
    "#\n",
    "# Values that work for recordsPerBuffer and BuffersPerAcquisition\n",
    "#                           25                    20\n",
    "#                           100                   20\n",
    "#                           500                   100\n",
    "alazar_params['recordsPerBuffer'] = 20  # número de capturas por buffer.\n",
    "alazar_params['buffersPerAcquisition'] = 100 # número de buffers por aquisição.\n",
    "alazar_params['amplitudeReferenceAlazar'] = -8 # Intensidade do sinal de referência.\n",
    "alazar_params['inputLoad'] = 50# impedância dos cabos. \n",
    "alazar_params['triggerLevel_volts'] = 0.7  # Level do trigger para ativar captura.\n",
    "alazar_params['triggerRange_volts'] = 1            # Tamanho máximo do sinal do trigger.\n",
    "alazar_params['waveformHeadCut'] = 500 # quanto pontos iniciais por captura vão ser ignorados.\n",
    "alazar_params['period'] = 14 # o período em pontos do sinal capturado ( 70 MHz -> 14 pontos).\n",
    "alazar_params['buffer_timeout_ms'] = 5000 # tempo de espera para chegar um buffer; se ultrapassar, ocorre timeout.\n",
    "alazar_params['decimationValue'] = 1 # valor de divisão do sampling rate.\n",
    "alazar_params['TTL'] = True # Configuração do sinal de trigger. É o que funcionaou quando estava trigando pelo AWG. Quando é pelo delay generator, não usa isso.\n",
    "alazar_params['save'] = False # Caso queira salvar todos os pontos adquiridos na aquisição em formato binário.\n",
    "\n",
    "\n",
    "alazar_params['DefaultAlazarSamplingRate'] = 1e9\n",
    "samplingRate =  alazar_params['DefaultAlazarSamplingRate']/alazar_params['decimationValue']\n",
    "\n",
    "# O número pontos por aquisição depende do sampling rate. Tem que ser múltiplos de 256.\n",
    "alazar_params['postTriggerSamples'] = int(RFMeasurementLength*samplingRate/256)*256    # quantos pontos depois do trigger.\n",
    "alazar_params['preTriggerSamples'] = 0 # quantos pontos o alazar vai salvar antes do trigger."
   ]
  },
  {
   "cell_type": "code",
   "execution_count": 7,
   "id": "c31d2d96-93e9-4994-8f27-47ef64114e2a",
   "metadata": {},
   "outputs": [],
   "source": [
    "\n",
    "# função que retornar I e Q da placa alazar\n",
    "def capture(self):\n",
    "    I,Q = inst_alazar.capture(preTriggerSamples = alazar_params['preTriggerSamples'],                                       \n",
    "                                   postTriggerSamples = alazar_params['postTriggerSamples'],                     \n",
    "                                   recordsPerBuffer = alazar_params['recordsPerBuffer'], \n",
    "                                   buffersPerAcquisition = alazar_params['buffersPerAcquisition'],       \n",
    "                                   powerReference_dBm = alazar_params['amplitudeReferenceAlazar'],\n",
    "                                   inputLoad = alazar_params['inputLoad'],                                              \n",
    "                                   triggerLevel_volts = alazar_params['triggerLevel_volts'], \n",
    "                                   triggerRange_volts = alazar_params['triggerRange_volts'],                                      \n",
    "                                   waveformHeadCut = alazar_params['waveformHeadCut'],             \n",
    "                                   period = alazar_params['period'],                                                 \n",
    "                                   buffer_timeout_ms = alazar_params['buffer_timeout_ms'] ,                                    \n",
    "                                   decimation_value = alazar_params['decimationValue'],            \n",
    "                                   TTL = alazar_params['TTL'],  \n",
    "                                   save = alazar_params['save'])  "
   ]
  },
  {
   "cell_type": "markdown",
   "id": "4e7f6455-df68-4033-86d6-aec664d05d59",
   "metadata": {},
   "source": [
    "## Configurar DataChannel"
   ]
  },
  {
   "cell_type": "code",
   "execution_count": 8,
   "id": "ae4b263a-351c-4530-9e6c-8e2e9056691a",
   "metadata": {},
   "outputs": [],
   "source": [
    "ms = DataChannelManager(inst_awg)\n",
    "\n",
    "ms.clearAwgChannel()\n",
    "\n",
    "ms.labelAwgChannel(channel = 2, # o canal do awg\n",
    "                        channelName = 'Q', markerValue = 1)\n",
    "\n",
    "ms.labelAwgChannel(channel = 1, # o canal do awg\n",
    "                        channelName = 'I', markerValue = 1)\n",
    "\n",
    "ms.labelAwgChannel(channel = 1, # o canal do awg\n",
    "                        channelName = 'm', markerValue = 2)"
   ]
  },
  {
   "cell_type": "markdown",
   "id": "2215b969-4462-4571-a67f-d1b039133a2f",
   "metadata": {},
   "source": [
    "# Exemplos de Medidas"
   ]
  },
  {
   "cell_type": "markdown",
   "id": "5b702051-367b-4150-af25-76a5f478d45e",
   "metadata": {},
   "source": [
    "### Cavidade"
   ]
  },
  {
   "cell_type": "markdown",
   "id": "e00586a6-1d58-4496-9125-422203508049",
   "metadata": {},
   "source": [
    "A ideia principal dessa medida é gerar apenas um pulso. Fazendo a varredura em frequência, se obtém a ressonância da cavidade."
   ]
  },
  {
   "cell_type": "code",
   "execution_count": 9,
   "id": "3ca73c30-e81b-4601-94ea-a72d4c35d4f0",
   "metadata": {},
   "outputs": [],
   "source": [
    "# Define-se um pulso Zero\n",
    "p1 = ZeroPulse(length = RFMeasurementLength)"
   ]
  },
  {
   "cell_type": "code",
   "execution_count": 10,
   "id": "831b1388-cb22-4e76-bd97-8dd185f4ee6a",
   "metadata": {},
   "outputs": [],
   "source": [
    "s1 = PulseSequence('Cavidade', 1e-6)"
   ]
  },
  {
   "cell_type": "code",
   "execution_count": 14,
   "id": "696767e9-2be7-4bd4-9d4c-bcb533b40216",
   "metadata": {},
   "outputs": [],
   "source": [
    "s1.clear()\n",
    "\n",
    "s1.add(p = p1, channel = 'm')"
   ]
  },
  {
   "cell_type": "markdown",
   "id": "52a83825-a3d0-46c4-b075-0bcdf18896aa",
   "metadata": {},
   "source": [
    "Adicionando os pulsos no PulseSequence, vai criar a seguinte estratura de dados"
   ]
  },
  {
   "cell_type": "code",
   "execution_count": 15,
   "id": "c843c547-22a2-4a0b-810b-c7b07dd42077",
   "metadata": {},
   "outputs": [
    {
     "data": {
      "text/plain": [
       "{'m': {'pulses': array([<measurements.waveforms.ZeroPulse.ZeroPulse object at 0x0000017EDD6EF7D0>],\n",
       "        dtype=object),\n",
       "  'delays': array([1.e-10]),\n",
       "  'relative_delays': array([-5.0001e-06])}}"
      ]
     },
     "execution_count": 15,
     "metadata": {},
     "output_type": "execute_result"
    }
   ],
   "source": [
    "s1.channels"
   ]
  },
  {
   "cell_type": "markdown",
   "id": "c986ba1c-2a08-4a8a-9679-e2e7a433ca9a",
   "metadata": {},
   "source": [
    "O DataChannelManager recebe uma Pulse Sequence e o converte em formato adequado para o AWG"
   ]
  },
  {
   "cell_type": "code",
   "execution_count": 16,
   "id": "25123330-7a2a-468c-8c1d-2e6a507fd6d7",
   "metadata": {},
   "outputs": [],
   "source": [
    "ms.prepareChannelData(sequence = s1, totalExperimentDuration = 100e-6)"
   ]
  },
  {
   "cell_type": "markdown",
   "id": "002f0ad5-a87f-4674-8c06-9d811ea347a3",
   "metadata": {},
   "source": [
    "Com isso foi a criada a seguinte estratura de dados"
   ]
  },
  {
   "cell_type": "code",
   "execution_count": 17,
   "id": "012556b2-763d-44c7-a916-f0dcee8a1ee6",
   "metadata": {},
   "outputs": [
    {
     "data": {
      "text/plain": [
       "{'channels': {'m': {'awgChannel': 1,\n",
       "   'pulse_stream': array([0, 2, 0, ..., 2, 0, 0], dtype=int8),\n",
       "   'length': 320256,\n",
       "   'relative_memory_index': 160256}},\n",
       " 'startupInstrumentIndex': 192256,\n",
       " 'totalSizeMeasurement': 3200000,\n",
       " 'awgRate': 32000000000.0}"
      ]
     },
     "execution_count": 17,
     "metadata": {},
     "output_type": "execute_result"
    }
   ],
   "source": [
    "ms._channelData"
   ]
  },
  {
   "cell_type": "markdown",
   "id": "b88ee3e8-4cd0-4ded-b230-56de989153b1",
   "metadata": {},
   "source": [
    "Próximo passo é liberar a memória do awg e alocar a memória calculada em prepareChannelData"
   ]
  },
  {
   "cell_type": "code",
   "execution_count": 18,
   "id": "215c3c48-7b78-439b-b288-211eec1f1050",
   "metadata": {},
   "outputs": [],
   "source": [
    "inst_awg.freeMemory()"
   ]
  },
  {
   "cell_type": "code",
   "execution_count": 19,
   "id": "3c08e616-f9ca-479f-b327-52c60326356d",
   "metadata": {},
   "outputs": [],
   "source": [
    "ms.allocAwgMemory()"
   ]
  },
  {
   "cell_type": "markdown",
   "id": "257c5ee9-8fd1-4d1f-be20-4d7bb8bf42c3",
   "metadata": {},
   "source": [
    "Para checar possíveis erros chame getError"
   ]
  },
  {
   "cell_type": "code",
   "execution_count": 20,
   "id": "2ce7e666-bbc7-4fd2-815c-f8fc5a990f7d",
   "metadata": {},
   "outputs": [],
   "source": [
    "inst_awg.getError()"
   ]
  },
  {
   "cell_type": "markdown",
   "id": "08ac05e8-bed8-4e70-8f19-f0ec4d389b0f",
   "metadata": {},
   "source": [
    "Para carregar os dados de _channelData no canal m chame loadChannelDataToAwg"
   ]
  },
  {
   "cell_type": "code",
   "execution_count": 21,
   "id": "e216025c-54ca-4cd5-819e-28ea05625437",
   "metadata": {},
   "outputs": [],
   "source": [
    "# Para car\n",
    "ms.loadChannelDataToAwg('m')"
   ]
  },
  {
   "cell_type": "code",
   "execution_count": 22,
   "id": "f77f16db-1bac-4143-b323-27bcb8f46b65",
   "metadata": {},
   "outputs": [],
   "source": [
    "# Atualiza o marker da fonte de excitação\n",
    "ms.setInstrumentsMarker(1)"
   ]
  },
  {
   "cell_type": "code",
   "execution_count": 23,
   "id": "642e8b27-e1a4-4557-9a66-ef55fcc894ab",
   "metadata": {},
   "outputs": [],
   "source": [
    "inst_awg.start()"
   ]
  },
  {
   "cell_type": "markdown",
   "id": "353857cd-ef4d-4125-8328-ff97502d31ed",
   "metadata": {},
   "source": [
    "### Twotone"
   ]
  },
  {
   "cell_type": "code",
   "execution_count": 24,
   "id": "893cb914-9ca1-4508-92c6-19daa338d1da",
   "metadata": {},
   "outputs": [],
   "source": [
    "inst_awg.stop()\n",
    "\n",
    "# Define-se um pulso Zero\n",
    "p1 = GaussianPulse(length = 20e-6, amplitude = 1, sigma = 4e-6)\n",
    "p2 = ZeroPulse(length = RFMeasurementLength)\n",
    "\n",
    "s1 = PulseSequence('Twotone', 1e-6)\n",
    "\n",
    "s1.clear()\n",
    "\n",
    "s1.add(p = p1, channel = 'I', delay = RFMeasurementLength)\n",
    "s1.add(p = p2, channel = 'm')\n"
   ]
  },
  {
   "cell_type": "code",
   "execution_count": 25,
   "id": "592e3e1b-3887-438f-a41e-f4c1b544a20c",
   "metadata": {},
   "outputs": [
    {
     "data": {
      "image/png": "[encoded data removed]",
      "text/plain": [
       "<Figure size 640x480 with 1 Axes>"
      ]
     },
     "metadata": {},
     "output_type": "display_data"
    }
   ],
   "source": [
    "s1.show_all()"
   ]
  },
  {
   "cell_type": "code",
   "execution_count": 26,
   "id": "c4a21286-c916-496a-a1af-e9d869a4b65f",
   "metadata": {},
   "outputs": [],
   "source": [
    "ms.prepareChannelData(sequence = s1, totalExperimentDuration = 120e-6)\n",
    "\n",
    "inst_awg.freeMemory()\n",
    "\n",
    "ms.allocAwgMemory()\n",
    "sleep(0.05)\n",
    "ms.loadChannelDataToAwg('I')\n",
    "sleep(0.05)\n",
    "ms.loadChannelDataToAwg('m')\n",
    "sleep(0.05)\n",
    "\n",
    "# Atualiza o marker da fonte de excitação\n",
    "ms.setInstrumentsMarker(1)"
   ]
  },
  {
   "cell_type": "code",
   "execution_count": 27,
   "id": "a9b029fd-2aff-483f-ac13-fcb664074525",
   "metadata": {},
   "outputs": [],
   "source": [
    "inst_awg.getError()"
   ]
  },
  {
   "cell_type": "code",
   "execution_count": 28,
   "id": "d03626c3-9854-4211-a925-ce05edea2d76",
   "metadata": {},
   "outputs": [],
   "source": [
    "inst_awg.start()"
   ]
  },
  {
   "cell_type": "markdown",
   "id": "153fa9dd-c262-4d96-a017-e1472e1b2b39",
   "metadata": {},
   "source": [
    "# Rabi"
   ]
  },
  {
   "cell_type": "code",
   "execution_count": 29,
   "id": "f748001b-8ea4-439a-8bff-2d161e8de965",
   "metadata": {},
   "outputs": [],
   "source": [
    "inst_awg.stop()\n",
    "\n",
    "# Define-se um pulso Zero\n",
    "p1 = SquarePulse(length = 0)\n",
    "p2 = ZeroPulse(length = RFMeasurementLength)\n",
    "\n",
    "s1 = PulseSequence('Twotone', 1e-6)\n",
    "\n",
    "s1.clear()\n",
    "\n",
    "s1.add(p = p1, channel = 'I', delay = RFMeasurementLength)\n",
    "s1.add(p = p2, channel = 'm')\n"
   ]
  },
  {
   "cell_type": "code",
   "execution_count": 30,
   "id": "25533e2c-46a1-423a-82de-4cae4ff0019f",
   "metadata": {},
   "outputs": [
    {
     "data": {
      "image/png": "[encoded data removed]",
      "text/plain": [
       "<Figure size 640x480 with 1 Axes>"
      ]
     },
     "metadata": {},
     "output_type": "display_data"
    }
   ],
   "source": [
    "s1.show_all()"
   ]
  },
  {
   "cell_type": "code",
   "execution_count": 31,
   "id": "a96bfba9-b50d-4b72-92c0-ea57a258d879",
   "metadata": {},
   "outputs": [],
   "source": [
    "ms.prepareChannelData(sequence = s1, totalExperimentDuration = 120e-6)\n",
    "\n",
    "inst_awg.freeMemory()\n",
    "\n",
    "ms.allocAwgMemory()\n",
    "sleep(0.05)\n",
    "ms.loadChannelDataToAwg('I')\n",
    "sleep(0.05)\n",
    "ms.loadChannelDataToAwg('m')\n",
    "sleep(0.05)\n",
    "\n",
    "# Atualiza o marker da fonte de excitação\n",
    "ms.setInstrumentsMarker(1)"
   ]
  },
  {
   "cell_type": "code",
   "execution_count": 32,
   "id": "02cef2fb-f2f2-418a-8f17-2a9958843ee5",
   "metadata": {},
   "outputs": [],
   "source": [
    "inst_awg.start()"
   ]
  },
  {
   "cell_type": "code",
   "execution_count": 37,
   "id": "c8ed9366-b193-4962-a2b0-6ad8e634f734",
   "metadata": {},
   "outputs": [],
   "source": [
    "durations = np.arange(0,2000e-9,10e-9)\n",
    "\n",
    "for duration in durations:\n",
    "\n",
    "    p1.length = duration\n",
    "    \n",
    "    s1.clear()\n",
    "\n",
    "    s1.add(p = p1, channel = 'I', delay = RFMeasurementLength)\n",
    "    s1.add(p = p2, channel = 'm')\n",
    "\n",
    "    ms.updateChannelData(sequence = s1, channelName = 'I')\n",
    "\n",
    "    ms.loadChannelDataToAwg('I')\n",
    "    sleep(0.05)\n",
    "    ms.loadChannelDataToAwg('m')\n",
    "\n",
    "    ms.setInstrumentsMarker(1)\n",
    "\n",
    "    sleep(0.5)\n"
   ]
  },
  {
   "cell_type": "markdown",
   "id": "1a145318-6801-4fc9-94e7-09c9aba7d550",
   "metadata": {},
   "source": [
    "### T1"
   ]
  },
  {
   "cell_type": "code",
   "execution_count": 38,
   "id": "57c80b23-f16e-4a27-a9cd-439431c93086",
   "metadata": {},
   "outputs": [],
   "source": [
    "inst_awg.stop()\n",
    "\n",
    "# Define-se um pulso Zero\n",
    "p1 = SquarePulse(length = 50e-9)\n",
    "p2 = ZeroPulse(length = RFMeasurementLength)\n",
    "\n",
    "s1 = PulseSequence('Twotone', 1e-6)\n",
    "\n",
    "s1.clear()\n",
    "\n",
    "s1.add(p = p1, channel = 'Q', delay = RFMeasurementLength)\n",
    "s1.add(p = p2, channel = 'm')\n"
   ]
  },
  {
   "cell_type": "code",
   "execution_count": 39,
   "id": "710e1b2d-ef4b-490c-9ffb-0e95548eff7b",
   "metadata": {},
   "outputs": [
    {
     "data": {
      "image/png": "[encoded data removed]",
      "text/plain": [
       "<Figure size 640x480 with 1 Axes>"
      ]
     },
     "metadata": {},
     "output_type": "display_data"
    }
   ],
   "source": [
    "s1.show_all()"
   ]
  },
  {
   "cell_type": "code",
   "execution_count": 40,
   "id": "f31228ae-edc4-4822-b85a-eaf3a771d169",
   "metadata": {},
   "outputs": [],
   "source": [
    "ms.prepareChannelData(sequence = s1, totalExperimentDuration = 200e-6)\n",
    "\n",
    "inst_awg.freeMemory()\n",
    "\n",
    "ms.allocAwgMemory()\n",
    "sleep(0.05)\n",
    "ms.loadChannelDataToAwg('Q')\n",
    "sleep(0.05)\n",
    "ms.loadChannelDataToAwg('m')\n",
    "sleep(0.05)\n",
    "\n",
    "# Atualiza o marker da fonte de excitação\n",
    "ms.setInstrumentsMarker(1)"
   ]
  },
  {
   "cell_type": "code",
   "execution_count": 41,
   "id": "8af55eb0-537c-4de9-9fd8-828059a036c9",
   "metadata": {},
   "outputs": [],
   "source": [
    "inst_awg.start()"
   ]
  },
  {
   "cell_type": "code",
   "execution_count": 42,
   "id": "8207679e-5514-48a3-b7e5-cc2898503777",
   "metadata": {},
   "outputs": [],
   "source": [
    "delays = np.arange(0,1000e-9,10e-9)\n",
    "\n",
    "for delay in delays:\n",
    "\n",
    "    s1.clear()\n",
    "\n",
    "    s1.add(p = p1, channel = 'Q', delay = RFMeasurementLength+delay)\n",
    "    s1.add(p = p2, channel = 'm')\n",
    "\n",
    "    ms.updateChannelData(sequence = s1, channelName = 'Q')\n",
    "\n",
    "    ms.loadChannelDataToAwg('Q') # Quando usa o canal Q, não precisa atualizar o m, a menos que haja alteração de dados no canal m\n",
    "\n",
    "    ms.setInstrumentsMarker(1)\n",
    "\n",
    "    sleep(0.5)\n"
   ]
  },
  {
   "cell_type": "markdown",
   "id": "89df1a38-b2b5-470c-a96c-a7500f24e2f0",
   "metadata": {},
   "source": [
    "### Ramsey"
   ]
  },
  {
   "cell_type": "code",
   "execution_count": 43,
   "id": "0143dcd2-6c3d-4ff6-bea6-32e3c01f9779",
   "metadata": {},
   "outputs": [],
   "source": [
    "inst_awg.stop()\n",
    "\n",
    "# Define-se um pulso Zero\n",
    "p1 = SquarePulse(length = 25e-9)\n",
    "p2 = ZeroPulse(length = RFMeasurementLength)\n",
    "\n",
    "s1 = PulseSequence('Twotone', 1e-6)\n",
    "\n",
    "s1.clear()\n",
    "\n",
    "s1.add(p = p1, channel = 'Q')\n",
    "s1.add(p = p1, channel = 'Q', delay = RFMeasurementLength)\n",
    "s1.add(p = p2, channel = 'm')\n"
   ]
  },
  {
   "cell_type": "code",
   "execution_count": 44,
   "id": "4634f6ae-464f-4be0-9063-62ff46abb57c",
   "metadata": {},
   "outputs": [],
   "source": [
    "ms.prepareChannelData(sequence = s1, totalExperimentDuration = 200e-6)\n",
    "\n",
    "inst_awg.freeMemory()\n",
    "\n",
    "ms.allocAwgMemory()\n",
    "sleep(0.05)\n",
    "ms.loadChannelDataToAwg('Q')\n",
    "sleep(0.05)\n",
    "ms.loadChannelDataToAwg('m')\n",
    "sleep(0.05)\n",
    "\n",
    "# Atualiza o marker da fonte de excitação\n",
    "ms.setInstrumentsMarker(1)"
   ]
  },
  {
   "cell_type": "code",
   "execution_count": 45,
   "id": "82982d13-ef4a-461d-98d5-5b7cd2349590",
   "metadata": {},
   "outputs": [],
   "source": [
    "inst_awg.start()"
   ]
  },
  {
   "cell_type": "code",
   "execution_count": 47,
   "id": "b3e60adb-aba0-426b-8814-dcdf6d33aa94",
   "metadata": {},
   "outputs": [],
   "source": [
    "delays = np.arange(0,1000e-9,10e-9)\n",
    "\n",
    "for delay in delays:\n",
    "\n",
    "    s1.clear()\n",
    "\n",
    "    s1.add(p = p1, channel = 'Q', delay = delay)\n",
    "    s1.add(p = p1, channel = 'Q', delay = RFMeasurementLength)\n",
    "    s1.add(p = p2, channel = 'm')\n",
    "\n",
    "    ms.updateChannelData(sequence = s1, channelName = 'Q')\n",
    "\n",
    "    ms.loadChannelDataToAwg('Q')  # Quando usa o canal Q, não precisa atualizar o m, a menos que haja alteração de dados no canal m\n",
    "\n",
    "    ms.setInstrumentsMarker(1)\n",
    "\n",
    "    sleep(0.5)\n"
   ]
  },
  {
   "cell_type": "markdown",
   "id": "c50f178f-49e6-4a07-9f35-4516a2e2606c",
   "metadata": {},
   "source": [
    "### Echo"
   ]
  },
  {
   "cell_type": "code",
   "execution_count": 48,
   "id": "7e67eff2-4828-4f2a-a4fa-27e44d71fae5",
   "metadata": {},
   "outputs": [],
   "source": [
    "inst_awg.stop()\n",
    "\n",
    "# Define-se um pulso Zero\n",
    "p1 = SquarePulse(length = 25e-9)\n",
    "p2 = SquarePulse(length = 50e-9)\n",
    "p3 = ZeroPulse(length = RFMeasurementLength)\n",
    "\n",
    "s1 = PulseSequence('Twotone', 1e-6)\n",
    "\n",
    "s1.clear()\n",
    "\n",
    "s1.add(p = p1, channel = 'Q')\n",
    "s1.add(p = p2, channel = 'Q')\n",
    "s1.add(p = p1, channel = 'Q', delay = RFMeasurementLength)\n",
    "s1.add(p = p3, channel = 'm')\n"
   ]
  },
  {
   "cell_type": "code",
   "execution_count": 49,
   "id": "dbc61434-f666-4016-981e-5a326ed3f2b6",
   "metadata": {},
   "outputs": [],
   "source": [
    "ms.prepareChannelData(sequence = s1, totalExperimentDuration = 200e-6)\n",
    "\n",
    "inst_awg.freeMemory()\n",
    "\n",
    "ms.allocAwgMemory()\n",
    "sleep(0.05)\n",
    "ms.loadChannelDataToAwg('Q')\n",
    "sleep(0.05)\n",
    "ms.loadChannelDataToAwg('m')\n",
    "sleep(0.05)\n",
    "\n",
    "# Atualiza o marker da fonte de excitação\n",
    "ms.setInstrumentsMarker(1)"
   ]
  },
  {
   "cell_type": "code",
   "execution_count": 50,
   "id": "6fd96eca-52d3-4b4a-903f-94a28f864dea",
   "metadata": {},
   "outputs": [],
   "source": [
    "inst_awg.start()"
   ]
  },
  {
   "cell_type": "code",
   "execution_count": 51,
   "id": "c6224924-3046-474f-a5b5-431e717c7107",
   "metadata": {},
   "outputs": [],
   "source": [
    "delays = np.arange(0,1000e-9,10e-9)\n",
    "\n",
    "for delay in delays:\n",
    "\n",
    "    s1.clear()\n",
    "\n",
    "    s1.add(p = p1, channel = 'Q', delay = delay)\n",
    "    s1.add(p = p2, channel = 'Q', delay = delay)\n",
    "    s1.add(p = p1, channel = 'Q', delay = RFMeasurementLength)\n",
    "    s1.add(p = p3, channel = 'm')\n",
    "\n",
    "    ms.updateChannelData(sequence = s1, channelName = 'Q')\n",
    "\n",
    "    ms.loadChannelDataToAwg('Q')  # Quando usa o canal Q, não precisa atualizar o m, a menos que haja alteração de dados no canal m\n",
    "\n",
    "    ms.setInstrumentsMarker(1)\n",
    "\n",
    "    sleep(0.5)\n"
   ]
  },
  {
   "cell_type": "markdown",
   "id": "b6e6e360-132f-4bb3-8566-77914f4b6000",
   "metadata": {},
   "source": [
    "### Uma sequência de Pulsos Arbitrária"
   ]
  },
  {
   "cell_type": "code",
   "execution_count": 46,
   "id": "3429d357-3aa1-4bd3-ac6f-250926d63194",
   "metadata": {},
   "outputs": [],
   "source": [
    "inst_awg.stop()\n",
    "\n",
    "# Define-se um pulso Zero\n",
    "p1 = SquarePulse(length = 25e-9)\n",
    "p2 = SquarePulse(length = 50e-9)\n",
    "p3 = GaussianPulse(length = 50e-9, amplitude = 1, sigma = 10e-9)\n",
    "p5 = ZeroPulse(length = RFMeasurementLength)\n",
    "\n",
    "\n",
    "p4 = DPC.build()\n",
    "\n",
    "s1 = PulseSequence('Twotone', 1e-6)\n",
    "\n",
    "s1.clear()\n",
    "\n",
    "s1.add(p = p1, channel = 'Q', delay = 100e-9)\n",
    "s1.add(p = p1, channel = 'Q', delay = RFMeasurementLength)\n",
    "\n",
    "s1.add(p = p3, channel = 'I', delay = 50e-9)\n",
    "s1.add(p = p2, channel = 'I', delay = RFMeasurementLength)\n",
    "\n",
    "s1.add(p = p5, channel = 'm')\n"
   ]
  },
  {
   "cell_type": "code",
   "execution_count": 48,
   "id": "d2f8e91a-b91d-4c93-b540-de83d01ec710",
   "metadata": {},
   "outputs": [
    {
     "data": {
      "image/png": "[encoded data removed]",
      "text/plain": [
       "<Figure size 640x480 with 1 Axes>"
      ]
     },
     "metadata": {},
     "output_type": "display_data"
    }
   ],
   "source": [
    "s1.show_all()"
   ]
  },
  {
   "cell_type": "code",
   "execution_count": 49,
   "id": "1e945124-142d-4ddd-b8ee-ec4b1efff59c",
   "metadata": {},
   "outputs": [],
   "source": [
    "ms.prepareChannelData(sequence = s1, totalExperimentDuration = 200e-6)\n",
    "\n",
    "inst_awg.freeMemory()\n",
    "\n",
    "ms.allocAwgMemory()\n",
    "sleep(0.05)\n",
    "ms.loadChannelDataToAwg('Q')\n",
    "sleep(0.05)\n",
    "ms.loadChannelDataToAwg('I')\n",
    "sleep(0.05)\n",
    "ms.loadChannelDataToAwg('m')\n",
    "sleep(0.05)\n",
    "\n",
    "# Atualiza o marker da fonte de excitação\n",
    "ms.setInstrumentsMarker(1)"
   ]
  },
  {
   "cell_type": "code",
   "execution_count": 50,
   "id": "dd9b666f-3f6d-4f2a-89b7-3d5ec7694b29",
   "metadata": {},
   "outputs": [],
   "source": [
    "inst_awg.start()"
   ]
  },
  {
   "cell_type": "markdown",
   "id": "341a8c68-c137-4c45-a4c0-0911b4dd96c9",
   "metadata": {},
   "source": [
    "### Drag Pulse "
   ]
  },
  {
   "cell_type": "code",
   "execution_count": 13,
   "id": "c94e8da4-0147-4167-9f12-42f3d080f5f2",
   "metadata": {},
   "outputs": [],
   "source": [
    "inst_awg.stop()\n",
    "\n",
    "# Define-se um pulso Zero\n",
    "p5 = ZeroPulse(length = RFMeasurementLength)\n",
    "\n",
    "DPC = DragPulseConstructor(length = 100e-9, alpha = 1, beta = 1, sigma = 2e-9)\n",
    "\n",
    "p4 = DPC.build()\n",
    "\n",
    "s1 = PulseSequence('Twotone', 1e-6)\n",
    "\n",
    "s1.clear()\n",
    "\n",
    "s1.add(p = p4.Q, channel = 'Q', delay = RFMeasurementLength+100e-9)\n",
    "\n",
    "\n",
    "s1.add(p = p4.I, channel = 'I', delay = RFMeasurementLength+100e-9)\n",
    "\n",
    "s1.add(p = p5, channel = 'm')\n"
   ]
  },
  {
   "cell_type": "code",
   "execution_count": 14,
   "id": "40c04486-3cdc-400f-b0c4-b5007aeb88a9",
   "metadata": {},
   "outputs": [
    {
     "data": {
      "image/png": "[encoded data removed]",
      "text/plain": [
       "<Figure size 640x480 with 1 Axes>"
      ]
     },
     "metadata": {},
     "output_type": "display_data"
    }
   ],
   "source": [
    "s1.show_all()"
   ]
  },
  {
   "cell_type": "code",
   "execution_count": null,
   "id": "56cae766-4597-4143-8014-cb6393aa82c6",
   "metadata": {},
   "outputs": [],
   "source": [
    "ms.prepareChannelData(sequence = s1, totalExperimentDuration = 200e-6)\n",
    "\n",
    "inst_awg.freeMemory()\n",
    "\n",
    "ms.allocAwgMemory()\n",
    "sleep(0.05)\n",
    "ms.loadChannelDataToAwg('Q')\n",
    "sleep(0.05)\n",
    "ms.loadChannelDataToAwg('I')\n",
    "sleep(0.05)\n",
    "ms.loadChannelDataToAwg('m')\n",
    "sleep(0.05)\n",
    "\n",
    "# Atualiza o marker da fonte de excitação\n",
    "ms.setInstrumentsMarker(1)"
   ]
  },
  {
   "cell_type": "code",
   "execution_count": null,
   "id": "58a07f0f-4905-42e0-a8e6-6423c8257d7b",
   "metadata": {},
   "outputs": [],
   "source": []
  }
 ],
 "metadata": {
  "kernelspec": {
   "display_name": "Python 3 (ipykernel)",
   "language": "python",
   "name": "python3"
  },
  "language_info": {
   "codemirror_mode": {
    "name": "ipython",
    "version": 3
   },
   "file_extension": ".py",
   "mimetype": "text/x-python",
   "name": "python",
   "nbconvert_exporter": "python",
   "pygments_lexer": "ipython3",
   "version": "3.11.9"
  }
 },
 "nbformat": 4,
 "nbformat_minor": 5
}
