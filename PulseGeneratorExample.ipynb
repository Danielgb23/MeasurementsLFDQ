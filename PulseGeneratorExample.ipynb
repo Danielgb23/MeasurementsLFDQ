{
 "cells": [
  {
   "cell_type": "code",
   "execution_count": 1,
   "id": "a4bdb6a2-4cbd-4a25-a7c4-5fbb98aea7f2",
   "metadata": {},
   "outputs": [],
   "source": [
    "from instruments.Pulse import Pulse\n",
    "from instruments.PulseSequence import PulseSequence\n",
    "from instruments.MeasurementSystem import MeasurementSystem\n",
    "\n",
    "import numpy as np\n",
    "import matplotlib.pyplot as plt"
   ]
  },
  {
   "cell_type": "code",
   "execution_count": 2,
   "id": "d4df6f5c-d5b7-4e8c-8af2-213a0a9da4ab",
   "metadata": {},
   "outputs": [],
   "source": [
    "p1 = Pulse(length = 200e-9,\n",
    "           amplitude = 1,\n",
    "           frequency = 5012e6,\n",
    "           phase = 0,\n",
    "           envelope = 'gaussian')\n",
    "\n",
    "p2 = Pulse(length = 150e-9,\n",
    "           amplitude = 1,\n",
    "           frequency = 5012e6,\n",
    "           phase = 90,\n",
    "           envelope = 'gaussian')\n",
    "\n",
    "p3 = Pulse(length = 150e-9,\n",
    "           amplitude = 1,\n",
    "           frequency = 5012e6,\n",
    "           phase = 90,\n",
    "           envelope = 'gaussian')\n",
    "\n",
    "mp = Pulse(length = 5e-6,\n",
    "           amplitude = 1,\n",
    "           phase = 0,\n",
    "           frequency = 7400e6)"
   ]
  },
  {
   "cell_type": "code",
   "execution_count": 3,
   "id": "f15ad2eb-ba29-4598-8ea3-0d6e83e97165",
   "metadata": {},
   "outputs": [],
   "source": [
    "s1 = PulseSequence(\"transmon3D\")"
   ]
  },
  {
   "cell_type": "code",
   "execution_count": 4,
   "id": "70204f18-c491-415f-8e34-e8fca05a1d88",
   "metadata": {},
   "outputs": [],
   "source": [
    "s1.clear()"
   ]
  },
  {
   "cell_type": "code",
   "execution_count": 5,
   "id": "70b539fd-992c-4f2e-b2d0-14197b4d667b",
   "metadata": {},
   "outputs": [],
   "source": [
    "s1.add(p1,'q1',1e-6)\n",
    "s1.add(p2,'q1',2e-6)\n",
    "s1.add(p3,'q1',500e-9)\n",
    "s1.add(mp,'m1',0.1e-9)"
   ]
  },
  {
   "cell_type": "code",
   "execution_count": 6,
   "id": "0b1d2c36-08e2-4ea9-a44d-39d24fc56beb",
   "metadata": {},
   "outputs": [
    {
     "data": {
      "image/png": "[encoded data removed]",
      "text/plain": [
       "<Figure size 640x480 with 1 Axes>"
      ]
     },
     "metadata": {},
     "output_type": "display_data"
    }
   ],
   "source": [
    "s1.show()"
   ]
  },
  {
   "cell_type": "code",
   "execution_count": 7,
   "id": "340a5e27-7439-4d7b-9cea-0d8ac4d787e6",
   "metadata": {},
   "outputs": [],
   "source": [
    "ms = MeasurementSystem('LFDQ')"
   ]
  },
  {
   "cell_type": "code",
   "execution_count": 8,
   "id": "c586461b-4d9e-4883-b3ca-831645d56343",
   "metadata": {},
   "outputs": [],
   "source": [
    "ms.parameters.CavityFrequency = 7400e6"
   ]
  },
  {
   "cell_type": "code",
   "execution_count": 13,
   "id": "b7ec4fa3-ac9a-49bb-879c-8677689a7b52",
   "metadata": {},
   "outputs": [],
   "source": [
    "ms.clearAwgChannel()"
   ]
  },
  {
   "cell_type": "code",
   "execution_count": 14,
   "id": "5137e619-4d0d-41b7-9c7f-2268f0992d4e",
   "metadata": {},
   "outputs": [],
   "source": [
    "ms.connectToAwgChannel(1,'q1', 70e6)\n",
    "ms.connectToAwgChannel(2,'m1', 70e6)"
   ]
  },
  {
   "cell_type": "code",
   "execution_count": 15,
   "id": "659ae13e-7683-490a-a98c-e2e9b017f6de",
   "metadata": {},
   "outputs": [],
   "source": [
    "pulses = ms.prepareSignalData(s1, 32e9)"
   ]
  },
  {
   "cell_type": "code",
   "execution_count": 16,
   "id": "32ede690-164a-471b-ad0d-307d3bcad642",
   "metadata": {},
   "outputs": [
    {
     "data": {
      "text/plain": [
       "{'q1': [{'awgChannel': 1,\n",
       "   'pulse_stream': array([0, 0, 0, ..., 0, 0, 0], dtype=int8),\n",
       "   'frequency': 4942000000.0,\n",
       "   'if_freq': 70000000.0,\n",
       "   'start_time': 0},\n",
       "  {'awgChannel': 1,\n",
       "   'pulse_stream': array([ 5,  5,  5, ..., -5, -5, -5], dtype=int8),\n",
       "   'frequency': 4942000000.0,\n",
       "   'if_freq': 70000000.0,\n",
       "   'start_time': 38400},\n",
       "  {'awgChannel': 1,\n",
       "   'pulse_stream': array([-5, -5, -5, ...,  5,  5,  5], dtype=int8),\n",
       "   'frequency': 4942000000.0,\n",
       "   'if_freq': 70000000.0,\n",
       "   'start_time': 107199}],\n",
       " 'm1': [{'awgChannel': 2,\n",
       "   'pulse_stream': array([ 0,  1,  3, ..., -5, -3, -1], dtype=int8),\n",
       "   'frequency': 7330000000.0,\n",
       "   'if_freq': 70000000.0,\n",
       "   'start_time': 128000}]}"
      ]
     },
     "execution_count": 16,
     "metadata": {},
     "output_type": "execute_result"
    }
   ],
   "source": [
    "pulses"
   ]
  },
  {
   "cell_type": "code",
   "execution_count": null,
   "id": "e2cfa6b3-8c1f-4650-b51e-223e67cb4529",
   "metadata": {},
   "outputs": [],
   "source": []
  }
 ],
 "metadata": {
  "kernelspec": {
   "display_name": "Python 3 (ipykernel)",
   "language": "python",
   "name": "python3"
  },
  "language_info": {
   "codemirror_mode": {
    "name": "ipython",
    "version": 3
   },
   "file_extension": ".py",
   "mimetype": "text/x-python",
   "name": "python",
   "nbconvert_exporter": "python",
   "pygments_lexer": "ipython3",
   "version": "3.11.9"
  }
 },
 "nbformat": 4,
 "nbformat_minor": 5
}
